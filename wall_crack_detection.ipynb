{
 "cells": [
  {
   "cell_type": "markdown",
   "metadata": {},
   "source": [
    "# Import Required Libraries\n",
    "Import necessary libraries such as TensorFlow, Keras, NumPy, and Matplotlib."
   ]
  },
  {
   "cell_type": "code",
   "execution_count": 174,
   "metadata": {},
   "outputs": [],
   "source": [
    "import tensorflow as tf\n",
    "from tensorflow.keras.models import Sequential\n",
    "from tensorflow.keras.layers import Conv2D, MaxPooling2D, Flatten, Dense, Dropout\n",
    "from tensorflow.keras.preprocessing.image import img_to_array, load_img\n",
    "import numpy as np\n",
    "import matplotlib.pyplot as plt\n",
    "import time\n",
    "from sklearn.model_selection import train_test_split\n",
    "import os\n",
    "from PIL import UnidentifiedImageError\n",
    "import pandas as pd\n"
   ]
  },
  {
   "cell_type": "markdown",
   "metadata": {},
   "source": [
    "# Set Hyperparameters\n",
    "Define hyperparameters including resolution of image, number of convolution layers, batch size, and epochs."
   ]
  },
  {
   "cell_type": "code",
   "execution_count": 164,
   "metadata": {},
   "outputs": [],
   "source": [
    "# Define hyperparameters\n",
    "image_resolution = (32, 32)  # Resolution of image\n",
    "num_conv_layers = 3  # Number of convolution layers\n",
    "batch_size = 16  # Batch size\n",
    "epochs = 10  # Number of epochs\n",
    "\n",
    "# Define file paths\n",
    "train_data_dir = 'concrete_crack_images/training'\n",
    "test_data_dir = 'concrete_crack_images/test'\n",
    "\n",
    "# Define categories\n",
    "categories = ['Negative', 'Positive']\n"
   ]
  },
  {
   "cell_type": "markdown",
   "metadata": {},
   "source": [
    "# Load and Preprocess Data\n",
    "Load images from the local file path, split them into training and test sets, and preprocess them (resize, normalize)."
   ]
  },
  {
   "cell_type": "code",
   "execution_count": 165,
   "metadata": {},
   "outputs": [],
   "source": [
    "# Function to load images and labels for training data\n",
    "def load_data_with_error_handling(data_dir, categories, image_resolution):\n",
    "    images = []\n",
    "    labels = []\n",
    "    for category in categories:\n",
    "        category_path = os.path.join(data_dir, category)\n",
    "        if not os.path.exists(category_path):\n",
    "            print(f\"Directory {category_path} does not exist.\")\n",
    "            continue\n",
    "        for img_name in os.listdir(category_path):\n",
    "            img_path = os.path.join(category_path, img_name)\n",
    "            try:\n",
    "                img = load_img(img_path, target_size=image_resolution)\n",
    "                img_array = img_to_array(img)\n",
    "                images.append(img_array)\n",
    "                labels.append(categories.index(category))\n",
    "            except UnidentifiedImageError:\n",
    "                print(f\"Cannot identify image file {img_path}. Skipping.\")\n",
    "    return np.array(images), np.array(labels)\n",
    "\n",
    "# Function to load images for test data\n",
    "def load_test_data_with_error_handling(data_dir, image_resolution):\n",
    "    images = []\n",
    "    if not os.path.exists(data_dir):\n",
    "        print(f\"Directory {data_dir} does not exist.\")\n",
    "        return np.array(images)\n",
    "    for img_name in os.listdir(data_dir):\n",
    "        img_path = os.path.join(data_dir, img_name)\n",
    "        try:\n",
    "            img = load_img(img_path, target_size=image_resolution)\n",
    "            img_array = img_to_array(img)\n",
    "            images.append(img_array)\n",
    "        except UnidentifiedImageError:\n",
    "            print(f\"Cannot identify image file {img_path}. Skipping.\")\n",
    "    return np.array(images)\n"
   ]
  },
  {
   "cell_type": "code",
   "execution_count": 166,
   "metadata": {},
   "outputs": [
    {
     "name": "stdout",
     "output_type": "stream",
     "text": [
      "Cannot identify image file concrete_crack_images/training/Negative/.DS_Store. Skipping.\n",
      "Cannot identify image file concrete_crack_images/training/Positive/.DS_Store. Skipping.\n",
      "Cannot identify image file concrete_crack_images/test/.DS_Store. Skipping.\n",
      "Training data shape: (32107, 32, 32, 3)\n",
      "Test data shape: (7893, 32, 32, 3)\n",
      "Training labels shape: (32107,)\n"
     ]
    }
   ],
   "source": [
    "# Load training data\n",
    "X_train, y_train = load_data_with_error_handling(train_data_dir, categories, image_resolution)\n",
    "\n",
    "# Load test data with labels\n",
    "X_test = load_test_data_with_error_handling(test_data_dir, image_resolution)\n",
    "\n",
    "# Print shapes of the datasets\n",
    "print(f\"Training data shape: {X_train.shape}\")\n",
    "print(f\"Test data shape: {X_test.shape}\")\n",
    "print(f\"Training labels shape: {y_train.shape}\")\n"
   ]
  },
  {
   "cell_type": "markdown",
   "metadata": {},
   "source": [
    "# Build the Convolutional Neural Network (CNN)\n",
    "Create a CNN model with the specified number of convolution layers."
   ]
  },
  {
   "cell_type": "code",
   "execution_count": 167,
   "metadata": {},
   "outputs": [
    {
     "data": {
      "text/html": [
       "<pre style=\"white-space:pre;overflow-x:auto;line-height:normal;font-family:Menlo,'DejaVu Sans Mono',consolas,'Courier New',monospace\"><span style=\"font-weight: bold\">Model: \"sequential_20\"</span>\n",
       "</pre>\n"
      ],
      "text/plain": [
       "\u001b[1mModel: \"sequential_20\"\u001b[0m\n"
      ]
     },
     "metadata": {},
     "output_type": "display_data"
    },
    {
     "data": {
      "text/html": [
       "<pre style=\"white-space:pre;overflow-x:auto;line-height:normal;font-family:Menlo,'DejaVu Sans Mono',consolas,'Courier New',monospace\">┏━━━━━━━━━━━━━━━━━━━━━━━━━━━━━━━━━┳━━━━━━━━━━━━━━━━━━━━━━━━┳━━━━━━━━━━━━━━━┓\n",
       "┃<span style=\"font-weight: bold\"> Layer (type)                    </span>┃<span style=\"font-weight: bold\"> Output Shape           </span>┃<span style=\"font-weight: bold\">       Param # </span>┃\n",
       "┡━━━━━━━━━━━━━━━━━━━━━━━━━━━━━━━━━╇━━━━━━━━━━━━━━━━━━━━━━━━╇━━━━━━━━━━━━━━━┩\n",
       "│ conv2d_78 (<span style=\"color: #0087ff; text-decoration-color: #0087ff\">Conv2D</span>)              │ (<span style=\"color: #00d7ff; text-decoration-color: #00d7ff\">None</span>, <span style=\"color: #00af00; text-decoration-color: #00af00\">32</span>, <span style=\"color: #00af00; text-decoration-color: #00af00\">32</span>, <span style=\"color: #00af00; text-decoration-color: #00af00\">32</span>)     │           <span style=\"color: #00af00; text-decoration-color: #00af00\">896</span> │\n",
       "├─────────────────────────────────┼────────────────────────┼───────────────┤\n",
       "│ max_pooling2d_78 (<span style=\"color: #0087ff; text-decoration-color: #0087ff\">MaxPooling2D</span>) │ (<span style=\"color: #00d7ff; text-decoration-color: #00d7ff\">None</span>, <span style=\"color: #00af00; text-decoration-color: #00af00\">16</span>, <span style=\"color: #00af00; text-decoration-color: #00af00\">16</span>, <span style=\"color: #00af00; text-decoration-color: #00af00\">32</span>)     │             <span style=\"color: #00af00; text-decoration-color: #00af00\">0</span> │\n",
       "├─────────────────────────────────┼────────────────────────┼───────────────┤\n",
       "│ conv2d_79 (<span style=\"color: #0087ff; text-decoration-color: #0087ff\">Conv2D</span>)              │ (<span style=\"color: #00d7ff; text-decoration-color: #00d7ff\">None</span>, <span style=\"color: #00af00; text-decoration-color: #00af00\">16</span>, <span style=\"color: #00af00; text-decoration-color: #00af00\">16</span>, <span style=\"color: #00af00; text-decoration-color: #00af00\">64</span>)     │        <span style=\"color: #00af00; text-decoration-color: #00af00\">18,496</span> │\n",
       "├─────────────────────────────────┼────────────────────────┼───────────────┤\n",
       "│ max_pooling2d_79 (<span style=\"color: #0087ff; text-decoration-color: #0087ff\">MaxPooling2D</span>) │ (<span style=\"color: #00d7ff; text-decoration-color: #00d7ff\">None</span>, <span style=\"color: #00af00; text-decoration-color: #00af00\">8</span>, <span style=\"color: #00af00; text-decoration-color: #00af00\">8</span>, <span style=\"color: #00af00; text-decoration-color: #00af00\">64</span>)       │             <span style=\"color: #00af00; text-decoration-color: #00af00\">0</span> │\n",
       "├─────────────────────────────────┼────────────────────────┼───────────────┤\n",
       "│ conv2d_80 (<span style=\"color: #0087ff; text-decoration-color: #0087ff\">Conv2D</span>)              │ (<span style=\"color: #00d7ff; text-decoration-color: #00d7ff\">None</span>, <span style=\"color: #00af00; text-decoration-color: #00af00\">8</span>, <span style=\"color: #00af00; text-decoration-color: #00af00\">8</span>, <span style=\"color: #00af00; text-decoration-color: #00af00\">128</span>)      │        <span style=\"color: #00af00; text-decoration-color: #00af00\">73,856</span> │\n",
       "├─────────────────────────────────┼────────────────────────┼───────────────┤\n",
       "│ max_pooling2d_80 (<span style=\"color: #0087ff; text-decoration-color: #0087ff\">MaxPooling2D</span>) │ (<span style=\"color: #00d7ff; text-decoration-color: #00d7ff\">None</span>, <span style=\"color: #00af00; text-decoration-color: #00af00\">4</span>, <span style=\"color: #00af00; text-decoration-color: #00af00\">4</span>, <span style=\"color: #00af00; text-decoration-color: #00af00\">128</span>)      │             <span style=\"color: #00af00; text-decoration-color: #00af00\">0</span> │\n",
       "├─────────────────────────────────┼────────────────────────┼───────────────┤\n",
       "│ dropout_20 (<span style=\"color: #0087ff; text-decoration-color: #0087ff\">Dropout</span>)            │ (<span style=\"color: #00d7ff; text-decoration-color: #00d7ff\">None</span>, <span style=\"color: #00af00; text-decoration-color: #00af00\">4</span>, <span style=\"color: #00af00; text-decoration-color: #00af00\">4</span>, <span style=\"color: #00af00; text-decoration-color: #00af00\">128</span>)      │             <span style=\"color: #00af00; text-decoration-color: #00af00\">0</span> │\n",
       "├─────────────────────────────────┼────────────────────────┼───────────────┤\n",
       "│ flatten_20 (<span style=\"color: #0087ff; text-decoration-color: #0087ff\">Flatten</span>)            │ (<span style=\"color: #00d7ff; text-decoration-color: #00d7ff\">None</span>, <span style=\"color: #00af00; text-decoration-color: #00af00\">2048</span>)           │             <span style=\"color: #00af00; text-decoration-color: #00af00\">0</span> │\n",
       "├─────────────────────────────────┼────────────────────────┼───────────────┤\n",
       "│ dense_40 (<span style=\"color: #0087ff; text-decoration-color: #0087ff\">Dense</span>)                │ (<span style=\"color: #00d7ff; text-decoration-color: #00d7ff\">None</span>, <span style=\"color: #00af00; text-decoration-color: #00af00\">128</span>)            │       <span style=\"color: #00af00; text-decoration-color: #00af00\">262,272</span> │\n",
       "├─────────────────────────────────┼────────────────────────┼───────────────┤\n",
       "│ dense_41 (<span style=\"color: #0087ff; text-decoration-color: #0087ff\">Dense</span>)                │ (<span style=\"color: #00d7ff; text-decoration-color: #00d7ff\">None</span>, <span style=\"color: #00af00; text-decoration-color: #00af00\">1</span>)              │           <span style=\"color: #00af00; text-decoration-color: #00af00\">129</span> │\n",
       "└─────────────────────────────────┴────────────────────────┴───────────────┘\n",
       "</pre>\n"
      ],
      "text/plain": [
       "┏━━━━━━━━━━━━━━━━━━━━━━━━━━━━━━━━━┳━━━━━━━━━━━━━━━━━━━━━━━━┳━━━━━━━━━━━━━━━┓\n",
       "┃\u001b[1m \u001b[0m\u001b[1mLayer (type)                   \u001b[0m\u001b[1m \u001b[0m┃\u001b[1m \u001b[0m\u001b[1mOutput Shape          \u001b[0m\u001b[1m \u001b[0m┃\u001b[1m \u001b[0m\u001b[1m      Param #\u001b[0m\u001b[1m \u001b[0m┃\n",
       "┡━━━━━━━━━━━━━━━━━━━━━━━━━━━━━━━━━╇━━━━━━━━━━━━━━━━━━━━━━━━╇━━━━━━━━━━━━━━━┩\n",
       "│ conv2d_78 (\u001b[38;5;33mConv2D\u001b[0m)              │ (\u001b[38;5;45mNone\u001b[0m, \u001b[38;5;34m32\u001b[0m, \u001b[38;5;34m32\u001b[0m, \u001b[38;5;34m32\u001b[0m)     │           \u001b[38;5;34m896\u001b[0m │\n",
       "├─────────────────────────────────┼────────────────────────┼───────────────┤\n",
       "│ max_pooling2d_78 (\u001b[38;5;33mMaxPooling2D\u001b[0m) │ (\u001b[38;5;45mNone\u001b[0m, \u001b[38;5;34m16\u001b[0m, \u001b[38;5;34m16\u001b[0m, \u001b[38;5;34m32\u001b[0m)     │             \u001b[38;5;34m0\u001b[0m │\n",
       "├─────────────────────────────────┼────────────────────────┼───────────────┤\n",
       "│ conv2d_79 (\u001b[38;5;33mConv2D\u001b[0m)              │ (\u001b[38;5;45mNone\u001b[0m, \u001b[38;5;34m16\u001b[0m, \u001b[38;5;34m16\u001b[0m, \u001b[38;5;34m64\u001b[0m)     │        \u001b[38;5;34m18,496\u001b[0m │\n",
       "├─────────────────────────────────┼────────────────────────┼───────────────┤\n",
       "│ max_pooling2d_79 (\u001b[38;5;33mMaxPooling2D\u001b[0m) │ (\u001b[38;5;45mNone\u001b[0m, \u001b[38;5;34m8\u001b[0m, \u001b[38;5;34m8\u001b[0m, \u001b[38;5;34m64\u001b[0m)       │             \u001b[38;5;34m0\u001b[0m │\n",
       "├─────────────────────────────────┼────────────────────────┼───────────────┤\n",
       "│ conv2d_80 (\u001b[38;5;33mConv2D\u001b[0m)              │ (\u001b[38;5;45mNone\u001b[0m, \u001b[38;5;34m8\u001b[0m, \u001b[38;5;34m8\u001b[0m, \u001b[38;5;34m128\u001b[0m)      │        \u001b[38;5;34m73,856\u001b[0m │\n",
       "├─────────────────────────────────┼────────────────────────┼───────────────┤\n",
       "│ max_pooling2d_80 (\u001b[38;5;33mMaxPooling2D\u001b[0m) │ (\u001b[38;5;45mNone\u001b[0m, \u001b[38;5;34m4\u001b[0m, \u001b[38;5;34m4\u001b[0m, \u001b[38;5;34m128\u001b[0m)      │             \u001b[38;5;34m0\u001b[0m │\n",
       "├─────────────────────────────────┼────────────────────────┼───────────────┤\n",
       "│ dropout_20 (\u001b[38;5;33mDropout\u001b[0m)            │ (\u001b[38;5;45mNone\u001b[0m, \u001b[38;5;34m4\u001b[0m, \u001b[38;5;34m4\u001b[0m, \u001b[38;5;34m128\u001b[0m)      │             \u001b[38;5;34m0\u001b[0m │\n",
       "├─────────────────────────────────┼────────────────────────┼───────────────┤\n",
       "│ flatten_20 (\u001b[38;5;33mFlatten\u001b[0m)            │ (\u001b[38;5;45mNone\u001b[0m, \u001b[38;5;34m2048\u001b[0m)           │             \u001b[38;5;34m0\u001b[0m │\n",
       "├─────────────────────────────────┼────────────────────────┼───────────────┤\n",
       "│ dense_40 (\u001b[38;5;33mDense\u001b[0m)                │ (\u001b[38;5;45mNone\u001b[0m, \u001b[38;5;34m128\u001b[0m)            │       \u001b[38;5;34m262,272\u001b[0m │\n",
       "├─────────────────────────────────┼────────────────────────┼───────────────┤\n",
       "│ dense_41 (\u001b[38;5;33mDense\u001b[0m)                │ (\u001b[38;5;45mNone\u001b[0m, \u001b[38;5;34m1\u001b[0m)              │           \u001b[38;5;34m129\u001b[0m │\n",
       "└─────────────────────────────────┴────────────────────────┴───────────────┘\n"
      ]
     },
     "metadata": {},
     "output_type": "display_data"
    },
    {
     "data": {
      "text/html": [
       "<pre style=\"white-space:pre;overflow-x:auto;line-height:normal;font-family:Menlo,'DejaVu Sans Mono',consolas,'Courier New',monospace\"><span style=\"font-weight: bold\"> Total params: </span><span style=\"color: #00af00; text-decoration-color: #00af00\">355,649</span> (1.36 MB)\n",
       "</pre>\n"
      ],
      "text/plain": [
       "\u001b[1m Total params: \u001b[0m\u001b[38;5;34m355,649\u001b[0m (1.36 MB)\n"
      ]
     },
     "metadata": {},
     "output_type": "display_data"
    },
    {
     "data": {
      "text/html": [
       "<pre style=\"white-space:pre;overflow-x:auto;line-height:normal;font-family:Menlo,'DejaVu Sans Mono',consolas,'Courier New',monospace\"><span style=\"font-weight: bold\"> Trainable params: </span><span style=\"color: #00af00; text-decoration-color: #00af00\">355,649</span> (1.36 MB)\n",
       "</pre>\n"
      ],
      "text/plain": [
       "\u001b[1m Trainable params: \u001b[0m\u001b[38;5;34m355,649\u001b[0m (1.36 MB)\n"
      ]
     },
     "metadata": {},
     "output_type": "display_data"
    },
    {
     "data": {
      "text/html": [
       "<pre style=\"white-space:pre;overflow-x:auto;line-height:normal;font-family:Menlo,'DejaVu Sans Mono',consolas,'Courier New',monospace\"><span style=\"font-weight: bold\"> Non-trainable params: </span><span style=\"color: #00af00; text-decoration-color: #00af00\">0</span> (0.00 B)\n",
       "</pre>\n"
      ],
      "text/plain": [
       "\u001b[1m Non-trainable params: \u001b[0m\u001b[38;5;34m0\u001b[0m (0.00 B)\n"
      ]
     },
     "metadata": {},
     "output_type": "display_data"
    }
   ],
   "source": [
    "# Build the Convolutional Neural Network (CNN)\n",
    "\n",
    "# Define the initial number of filters\n",
    "initial_filters = 32\n",
    "dropout_rate = 0.5  # Dropout rate (50% of the units will be dropped)\n",
    "\n",
    "# Initialize the CNN model\n",
    "model = Sequential()\n",
    "\n",
    "# Add convolutional layers based on the specified number of convolution layers\n",
    "for i in range(num_conv_layers):\n",
    "    filters = initial_filters * (2 ** i)\n",
    "    if i == 0:\n",
    "        # First layer needs to specify input shape\n",
    "        model.add(Conv2D(filters, (3, 3), activation='relu', padding=\"same\", input_shape=(image_resolution[0], image_resolution[1], 3)))\n",
    "    else:\n",
    "        model.add(Conv2D(filters, (3, 3), activation='relu', padding=\"same\"))\n",
    "    model.add(MaxPooling2D(pool_size=(2, 2), padding=\"same\"))\n",
    "\n",
    "# Add dropout layer after the fully connected layer\n",
    "model.add(Dropout(dropout_rate))\n",
    "\n",
    "# Flatten the output from the convolutional layers\n",
    "model.add(Flatten())\n",
    "\n",
    "# Add a fully connected layer\n",
    "model.add(Dense(128, activation='relu'))\n",
    "\n",
    "# Add the output layer\n",
    "model.add(Dense(1, activation='sigmoid'))\n",
    "\n",
    "# Compile the model\n",
    "model.compile(optimizer='adam', loss='binary_crossentropy', metrics=['accuracy'])\n",
    "\n",
    "# Print the model summary\n",
    "model.summary()"
   ]
  },
  {
   "cell_type": "markdown",
   "metadata": {},
   "source": [
    "# Train the Model\n",
    "Train the CNN model using the training data and specified batch size, and record the computational time."
   ]
  },
  {
   "cell_type": "code",
   "execution_count": 168,
   "metadata": {},
   "outputs": [
    {
     "name": "stdout",
     "output_type": "stream",
     "text": [
      "Epoch 1/10\n",
      "\u001b[1m2007/2007\u001b[0m \u001b[32m━━━━━━━━━━━━━━━━━━━━\u001b[0m\u001b[37m\u001b[0m \u001b[1m19s\u001b[0m 9ms/step - accuracy: 0.9550 - loss: 0.3665\n",
      "Epoch 2/10\n",
      "\u001b[1m2007/2007\u001b[0m \u001b[32m━━━━━━━━━━━━━━━━━━━━\u001b[0m\u001b[37m\u001b[0m \u001b[1m17s\u001b[0m 8ms/step - accuracy: 0.9882 - loss: 0.0363\n",
      "Epoch 3/10\n",
      "\u001b[1m2007/2007\u001b[0m \u001b[32m━━━━━━━━━━━━━━━━━━━━\u001b[0m\u001b[37m\u001b[0m \u001b[1m17s\u001b[0m 8ms/step - accuracy: 0.9902 - loss: 0.0343\n",
      "Epoch 4/10\n",
      "\u001b[1m2007/2007\u001b[0m \u001b[32m━━━━━━━━━━━━━━━━━━━━\u001b[0m\u001b[37m\u001b[0m \u001b[1m16s\u001b[0m 8ms/step - accuracy: 0.9901 - loss: 0.0335\n",
      "Epoch 5/10\n",
      "\u001b[1m2007/2007\u001b[0m \u001b[32m━━━━━━━━━━━━━━━━━━━━\u001b[0m\u001b[37m\u001b[0m \u001b[1m17s\u001b[0m 8ms/step - accuracy: 0.9933 - loss: 0.0202\n",
      "Epoch 6/10\n",
      "\u001b[1m2007/2007\u001b[0m \u001b[32m━━━━━━━━━━━━━━━━━━━━\u001b[0m\u001b[37m\u001b[0m \u001b[1m17s\u001b[0m 8ms/step - accuracy: 0.9929 - loss: 0.0258\n",
      "Epoch 7/10\n",
      "\u001b[1m2007/2007\u001b[0m \u001b[32m━━━━━━━━━━━━━━━━━━━━\u001b[0m\u001b[37m\u001b[0m \u001b[1m17s\u001b[0m 8ms/step - accuracy: 0.9926 - loss: 0.0248\n",
      "Epoch 8/10\n",
      "\u001b[1m2007/2007\u001b[0m \u001b[32m━━━━━━━━━━━━━━━━━━━━\u001b[0m\u001b[37m\u001b[0m \u001b[1m16s\u001b[0m 8ms/step - accuracy: 0.9930 - loss: 0.0237\n",
      "Epoch 9/10\n",
      "\u001b[1m2007/2007\u001b[0m \u001b[32m━━━━━━━━━━━━━━━━━━━━\u001b[0m\u001b[37m\u001b[0m \u001b[1m16s\u001b[0m 8ms/step - accuracy: 0.9938 - loss: 0.0201\n",
      "Epoch 10/10\n",
      "\u001b[1m2007/2007\u001b[0m \u001b[32m━━━━━━━━━━━━━━━━━━━━\u001b[0m\u001b[37m\u001b[0m \u001b[1m18s\u001b[0m 9ms/step - accuracy: 0.9949 - loss: 0.0232\n"
     ]
    }
   ],
   "source": [
    "# Train the Model\n",
    "\n",
    "# Start the timer\n",
    "start_time = time.time()\n",
    "\n",
    "# Train the model with training data\n",
    "history = model.fit(X_train, y_train, epochs=epochs, batch_size=batch_size, verbose=1)\n",
    "\n",
    "# End the timer\n",
    "end_time = time.time()\n"
   ]
  },
  {
   "cell_type": "code",
   "execution_count": 169,
   "metadata": {},
   "outputs": [
    {
     "name": "stdout",
     "output_type": "stream",
     "text": [
      "Training Time: 169.85 seconds\n",
      "Hyperparameters:\n",
      "Image Resolution: (32, 32)\n",
      "Number of Convolution Layers: 3\n",
      "Batch Size: 16\n",
      "Epochs: 10\n",
      "=====================================\n",
      "Last Epoch Training Accuracy: 0.9949\n",
      "Last Epoch Training Loss: 0.0200\n",
      "Validation accuracy and loss are not available.\n"
     ]
    },
    {
     "data": {
      "image/png": "[encoded data removed]",
      "text/plain": [
       "<Figure size 1200x400 with 2 Axes>"
      ]
     },
     "metadata": {},
     "output_type": "display_data"
    }
   ],
   "source": [
    "# Calculate the computational time\n",
    "training_time = end_time - start_time\n",
    "\n",
    "# Print the computational time\n",
    "print(f\"Training Time: {training_time:.2f} seconds\")\n",
    "\n",
    "# Print hyperparameters information\n",
    "print(f\"Hyperparameters:\")\n",
    "print(f\"Image Resolution: {image_resolution}\")\n",
    "print(f\"Number of Convolution Layers: {num_conv_layers}\")\n",
    "print(f\"Batch Size: {batch_size}\")\n",
    "print(f\"Epochs: {epochs}\")\n",
    "print(\"=====================================\")\n",
    "\n",
    "# Print the last epoch's accuracy and loss\n",
    "print(f\"Last Epoch Training Accuracy: {history.history['accuracy'][-1]:.4f}\")\n",
    "print(f\"Last Epoch Training Loss: {history.history['loss'][-1]:.4f}\")\n",
    "# Check if validation accuracy and loss are available\n",
    "if 'val_accuracy' in history.history and 'val_loss' in history.history:\n",
    "    print(f\"Last Epoch Validation Accuracy: {history.history['val_accuracy'][-1]:.4f}\")\n",
    "    print(f\"Last Epoch Validation Loss: {history.history['val_loss'][-1]:.4f}\")\n",
    "else:\n",
    "    print(\"Validation accuracy and loss are not available.\")\n",
    "\n",
    "# Plot training & validation accuracy values\n",
    "plt.figure(figsize=(12, 4))\n",
    "plt.subplot(1, 2, 1)\n",
    "plt.plot(history.history['accuracy'])\n",
    "if 'val_accuracy' in history.history:\n",
    "    plt.plot(history.history['val_accuracy'])\n",
    "plt.title('Model accuracy')\n",
    "plt.ylabel('Accuracy')\n",
    "plt.xlabel('Epoch')\n",
    "plt.ylim(0, 1)  # Set y-axis range for accuracy\n",
    "plt.xticks(range(epochs))  # Set x-axis ticks to integer values\n",
    "\n",
    "# Alternate labels above and below the value points\n",
    "for i, v in enumerate(history.history['accuracy']):\n",
    "    plt.text(i, v, f\"{v:.4f}\", ha='center', va='bottom' if i % 2 == 0 else 'top')\n",
    "if 'val_accuracy' in history.history:\n",
    "    for i, v in enumerate(history.history['val_accuracy']):\n",
    "        plt.text(i, v, f\"{v:.4f}\", ha='center', va='bottom' if i % 2 == 0 else 'top')\n",
    "plt.legend(['Train', 'Validation'] if 'val_accuracy' in history.history else ['Train'], loc='upper left')\n",
    "\n",
    "# Plot training & validation loss values\n",
    "plt.subplot(1, 2, 2)\n",
    "plt.plot(history.history['loss'])\n",
    "if 'val_loss' in history.history:\n",
    "    plt.plot(history.history['val_loss'])\n",
    "plt.title('Model loss')\n",
    "plt.ylabel('Loss')\n",
    "plt.xlabel('Epoch')\n",
    "plt.ylim(0, 10)  # Set y-axis range for loss\n",
    "plt.xticks(range(epochs))  # Set x-axis ticks to integer values\n",
    "\n",
    "# Alternate labels above and below the value points\n",
    "for i, v in enumerate(history.history['loss']):\n",
    "    plt.text(i, v, f\"{v:.4f}\", ha='center', va='bottom' if i % 2 == 0 else 'top')\n",
    "if 'val_loss' in history.history:\n",
    "    for i, v in enumerate(history.history['val_loss']):\n",
    "        plt.text(i, v, f\"{v:.4f}\", ha='center', va='bottom' if i % 2 == 0 else 'top')\n",
    "plt.legend(['Train', 'Validation'] if 'val_loss' in history.history else ['Train'], loc='upper left')\n",
    "\n",
    "plt.show()"
   ]
  },
  {
   "cell_type": "code",
   "execution_count": 180,
   "metadata": {},
   "outputs": [
    {
     "name": "stdout",
     "output_type": "stream",
     "text": [
      "Cannot identify image file concrete_crack_images/test/.DS_Store. Skipping.\n",
      "\u001b[1m247/247\u001b[0m \u001b[32m━━━━━━━━━━━━━━━━━━━━\u001b[0m\u001b[37m\u001b[0m \u001b[1m1s\u001b[0m 5ms/step\n",
      "Predictions saved to predictions.csv\n",
      "Number of Positive predictions: 181\n",
      "Number of Negative predictions: 7712\n"
     ]
    }
   ],
   "source": [
    "# Function to predict cracks in test images and save results to CSV\n",
    "def predict_and_save_to_csv(model, test_data_dir, image_resolution, output_csv='predictions.csv'):\n",
    "    # Load test data\n",
    "    test_images = []\n",
    "    image_ids = []\n",
    "    for img_name in os.listdir(test_data_dir):\n",
    "        img_path = os.path.join(test_data_dir, img_name)\n",
    "        try:\n",
    "            img = load_img(img_path, target_size=image_resolution)\n",
    "            img_array = img_to_array(img)\n",
    "            test_images.append(img_array)\n",
    "            image_ids.append(img_name)\n",
    "        except UnidentifiedImageError:\n",
    "            print(f\"Cannot identify image file {img_path}. Skipping.\")\n",
    "    \n",
    "    # Convert to numpy array\n",
    "    X_test = np.array(test_images)\n",
    "    \n",
    "    # Normalize the test images\n",
    "    X_test = X_test / 255.0\n",
    "    \n",
    "    # Predict the classes\n",
    "    predictions = model.predict(X_test)\n",
    "    predicted_classes = ['Positive' if pred > 0.5 else 'Negative' for pred in predictions]\n",
    "    \n",
    "    # Create a DataFrame with image_id and predicted_class\n",
    "    results_df = pd.DataFrame({\n",
    "        'image_id': image_ids,\n",
    "        'predicted_class': predicted_classes\n",
    "    })\n",
    "    \n",
    "    # Save the DataFrame to a CSV file\n",
    "    results_df.to_csv(output_csv, index=False)\n",
    "    print(f\"Predictions saved to {output_csv}\")\n",
    "    \n",
    "    # Count the number of positive and negative predictions\n",
    "    positive_count = predicted_classes.count('Positive')\n",
    "    negative_count = predicted_classes.count('Negative')\n",
    "    \n",
    "    # Print the counts\n",
    "    print(f\"Number of Positive predictions: {positive_count}\")\n",
    "    print(f\"Number of Negative predictions: {negative_count}\")\n",
    "\n",
    "# Call the function to predict and save results to CSV\n",
    "predict_and_save_to_csv(model, test_data_dir, image_resolution)"
   ]
  },
  {
   "cell_type": "markdown",
   "metadata": {},
   "source": [
    "# Evaluate the Model\n",
    "Evaluate the model using the test data and calculate accuracy."
   ]
  },
  {
   "cell_type": "code",
   "execution_count": 176,
   "metadata": {},
   "outputs": [],
   "source": [
    "# # Evaluate the Model\n",
    "\n",
    "# # Calculate the computational time for evaluation\n",
    "# evaluation_start_time = time.time()\n",
    "\n",
    "# # Evaluate the model on the test data\n",
    "# test_loss, test_accuracy = model.evaluate(X_test, y_test, verbose=2)\n",
    "\n",
    "# evaluation_end_time = time.time()\n",
    "# evaluation_time = evaluation_end_time - evaluation_start_time\n",
    "\n",
    "# # Print the computational time for evaluation\n",
    "# print(f\"Evaluation Time: {evaluation_time:.2f} seconds\")\n",
    "\n",
    "# # Print the test accuracy\n",
    "# print(f\"Test Accuracy: {test_accuracy:.2f}\")\n",
    "\n",
    "# # Print the test loss\n",
    "# print(f\"Test Loss: {test_loss:.2f}\")\n"
   ]
  },
  {
   "cell_type": "markdown",
   "metadata": {},
   "source": [
    "# Display Results\n",
    "Display the training and test accuracy, and the computational time."
   ]
  },
  {
   "cell_type": "code",
   "execution_count": 177,
   "metadata": {},
   "outputs": [],
   "source": [
    "# # Display Results\n",
    "\n",
    "# # Display the training accuracy\n",
    "# training_accuracy = history.history['accuracy'][-1]\n",
    "# print(f\"Training Accuracy: {training_accuracy:.4f}\")\n",
    "\n",
    "# # Display the validation accuracy\n",
    "# validation_accuracy = history.history['val_accuracy'][-1]\n",
    "# print(f\"Validation Accuracy: {validation_accuracy:.4f}\")\n",
    "\n",
    "# # Display the computational time for training\n",
    "# print(f\"Training Time: {training_time:.4f} seconds\")\n",
    "\n",
    "# # Display the computational time for evaluation\n",
    "# print(f\"Evaluation Time: {evaluation_time:.4f} seconds\")"
   ]
  },
  {
   "cell_type": "markdown",
   "metadata": {},
   "source": [
    "# DOE"
   ]
  },
  {
   "cell_type": "code",
   "execution_count": 178,
   "metadata": {},
   "outputs": [],
   "source": [
    "# import itertools\n",
    "# import pandas as pd\n",
    "\n",
    "# # Define parameter levels\n",
    "# image_resolution = [(32, 32), (64, 64), (128, 128)]\n",
    "# num_conv_layers = [3, 5, 7]\n",
    "# batch_size = [16, 32, 64]\n",
    "# epochs = [10, 20, 30]\n",
    "\n",
    "# # Generate all combinations\n",
    "# combinations = list(itertools.product(image_resolution, num_conv_layers, batch_size, epochs))\n",
    "\n",
    "# # Create a DataFrame\n",
    "# doe_table = pd.DataFrame(combinations, columns=['Image Resolution', 'Num Conv Layers', 'Batch Size', 'Epochs'])\n",
    "\n",
    "# # Shuffle the table for randomization\n",
    "# doe_table = doe_table.sample(frac=1).reset_index(drop=True)\n",
    "\n",
    "# # Save to CSV for reference\n",
    "# doe_table.to_csv('doe_table.csv', index=False)\n",
    "\n",
    "# print(doe_table)\n"
   ]
  },
  {
   "cell_type": "code",
   "execution_count": 179,
   "metadata": {},
   "outputs": [],
   "source": [
    "# import pandas as pd\n",
    "\n",
    "# # L9 orthogonal array (for 4 factors, 3 levels)\n",
    "# l9_array = [\n",
    "#     [1, 1, 1, 1],\n",
    "#     [1, 2, 2, 2],\n",
    "#     [1, 3, 3, 3],\n",
    "#     [2, 1, 2, 3],\n",
    "#     [2, 2, 3, 1],\n",
    "#     [2, 3, 1, 2],\n",
    "#     [3, 1, 3, 2],\n",
    "#     [3, 2, 1, 3],\n",
    "#     [3, 3, 2, 1],\n",
    "# ]\n",
    "\n",
    "# # Define parameter levels\n",
    "# image_resolution = [(32, 32), (64, 64), (128, 128)]\n",
    "# num_conv_layers = [3, 5, 7]\n",
    "# batch_size = [16, 32, 64]\n",
    "# epochs = [10, 20, 30]\n",
    "\n",
    "# # Map levels to actual values\n",
    "# def map_levels(array, levels):\n",
    "#     return [levels[level - 1] for level in array]\n",
    "\n",
    "# doe_table = pd.DataFrame(l9_array, columns=['Image Resolution', 'Num Conv Layers', 'Batch Size', 'Epochs'])\n",
    "# doe_table['Image Resolution'] = map_levels(doe_table['Image Resolution'], image_resolution)\n",
    "# doe_table['Num Conv Layers'] = map_levels(doe_table['Num Conv Layers'], num_conv_layers)\n",
    "# doe_table['Batch Size'] = map_levels(doe_table['Batch Size'], batch_size)\n",
    "# doe_table['Epochs'] = map_levels(doe_table['Epochs'], epochs)\n",
    "\n",
    "# # Save and display the table\n",
    "# doe_table.to_csv('fractional_doe_table.csv', index=False)\n",
    "# print(doe_table)\n"
   ]
  }
 ],
 "metadata": {
  "kernelspec": {
   "display_name": "Python 3",
   "language": "python",
   "name": "python3"
  },
  "language_info": {
   "codemirror_mode": {
    "name": "ipython",
    "version": 3
   },
   "file_extension": ".py",
   "mimetype": "text/x-python",
   "name": "python",
   "nbconvert_exporter": "python",
   "pygments_lexer": "ipython3",
   "version": "3.9.6"
  }
 },
 "nbformat": 4,
 "nbformat_minor": 2
}
